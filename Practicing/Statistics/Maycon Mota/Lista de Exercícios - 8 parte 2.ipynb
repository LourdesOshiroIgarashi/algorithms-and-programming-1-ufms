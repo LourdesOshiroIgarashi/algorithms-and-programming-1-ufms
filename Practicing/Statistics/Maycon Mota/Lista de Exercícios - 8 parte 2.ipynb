{
 "metadata": {
  "language_info": {
   "codemirror_mode": {
    "name": "ipython",
    "version": 3
   },
   "file_extension": ".py",
   "mimetype": "text/x-python",
   "name": "python",
   "nbconvert_exporter": "python",
   "pygments_lexer": "ipython3",
   "version": "3.8.5"
  },
  "orig_nbformat": 2,
  "kernelspec": {
   "name": "python385jvsc74a57bd080df4573815e2fbc1434c8f9d7234411ca19ec91ea5669cedcae75f03f5659be",
   "display_name": "Python 3.8.5 64-bit ('base': conda)"
  }
 },
 "nbformat": 4,
 "nbformat_minor": 2,
 "cells": [
  {
   "source": [
    "\n",
    "<div style=\"margin-left: 10px\">\n",
    "<h1>Universidade Federal de Mato Grosso do Sul</h1>\n",
    "Campus de Campo Grande <br>\n",
    "Estatística – Prof. Cássio Pinho dos Reis\n",
    "</div>\n",
    "</div>\n",
    "\n",
    "\n",
    "<left><h3>7ª LISTA DE EXERCÍCIOS - parte 3</h3></left> <br>\n",
    "<b>Turma:</b> Engenharia de Software <br>\n",
    "<b>RGA:</b> 2021.1906.069-7<br>\n",
    "<b>Aluno:</b> Maycon Felipe da Silva Mota\n",
    "\n",
    "\n",
    "\n",
    "---\n",
    "\n",
    "\n",
    "\n"
   ],
   "cell_type": "markdown",
   "metadata": {}
  },
  {
   "cell_type": "code",
   "execution_count": 23,
   "metadata": {},
   "outputs": [],
   "source": [
    "import itertools as it\n",
    "import pandas as pd\n",
    "import numpy as np\n",
    "import math\n",
    "import statistics\n",
    "from scipy.stats import poisson\n",
    "from scipy.stats import norm\n",
    "from scipy.stats import binom    \n",
    "import scipy\n"
   ]
  },
  {
   "source": [
    "#### Para esse exercício, irei criar uma função para calcular a distribuição normal."
   ],
   "cell_type": "markdown",
   "metadata": {}
  },
  {
   "cell_type": "code",
   "execution_count": null,
   "metadata": {},
   "outputs": [],
   "source": []
  },
  {
   "source": [
    "# 1ª Questão – Em quatro leituras experimentais de um comercial de 30 segundos, um locutor levou em média 29,2 segundos com um desvio padrão de 5,76 segundos. Construa um intervalo de confiança para média de tempo da leitura médio do comercial. Use alpha de 10%."
   ],
   "cell_type": "markdown",
   "metadata": {}
  },
  {
   "cell_type": "code",
   "execution_count": 40,
   "metadata": {},
   "outputs": [
    {
     "output_type": "stream",
     "name": "stdout",
     "text": [
      "intervalo de confiança 90.0%: 27.226 a 31.174\n"
     ]
    }
   ],
   "source": [
    "int_conf_90 = norm.interval(0.90, loc=29.2, scale=2.4 / np.sqrt(4)) \n",
    "\n",
    "\n",
    "print(\"intervalo de confiança 90.0%: {:.3f} a {:.3f}\".format(int_conf_90[0], int_conf_90[1]))\n",
    "\n"
   ]
  },
  {
   "cell_type": "code",
   "execution_count": null,
   "metadata": {},
   "outputs": [],
   "source": [
    "# 2ª Questão – Uma amostra aleatória é composta pelos seguintes elementos: 7, 7, 8, 9, 9, 10, 11, 11, 11, 12, 13, 13, 14, 15, 15. Construa os intervalos de confiança para a média com os níveis de significância de 97,5% e de 75%"
   ]
  },
  {
   "cell_type": "code",
   "execution_count": 67,
   "metadata": {},
   "outputs": [
    {
     "output_type": "stream",
     "name": "stdout",
     "text": [
      "O desvio padrão é 2.67\nA media da amostra é 11.00\nintervalo de confiança 75.0%: 10.206 a 11.794\nintervalo de confiança 97.5%: 9.453 a 12.547\n"
     ]
    }
   ],
   "source": [
    "amostra = [ 7, 7, 8, 9, 9, 10, 11,\n",
    "11, 11, 12, 13, 13, 14, 15, 15 ]\n",
    "media_amostra = statistics.mean(amostra)\n",
    "desvio_amostra = statistics.stdev(amostra)\n",
    "\n",
    "print(f\"O desvio padrão é {desvio_amostra:.2f}\\nA media da amostra é {media_amostra:.2f}\")\n",
    "\n",
    "int_conf_975 = norm.interval(0.975, loc=media_amostra, scale= desvio_amostra  / np.sqrt(len(amostra))) \n",
    "\n",
    "int_conf_75 = norm.interval(0.75, loc=media_amostra, scale= desvio_amostra / np.sqrt(len(amostra))) \n",
    "\n",
    "print(\"intervalo de confiança 75.0%: {:.3f} a {:.3f}\".format(int_conf_75[0], int_conf_75[1]))\n",
    "\n",
    "print(\"intervalo de confiança 97.5%: {:.3f} a {:.3f}\".format(int_conf_975[0], int_conf_975[1]))\n",
    "\n"
   ]
  },
  {
   "source": [
    "# 3ª Questão – Encontre os valores críticos da estatística “t” para estimativa da média populacional, sendo conhecido o desvio padrão amostral apenas, quando:\n"
   ],
   "cell_type": "markdown",
   "metadata": {}
  },
  {
   "source": [
    "n = 25, intervalo de confianca = 90% => 1.7061 <br>\n",
    "n = 8, intervalo de confianca = 95% => 2.3060 <br>\n",
    "n = 19, intervalo de confianca = 75% => 1.1866 <br>\n",
    "n = 13, intervalo de confianca = 90% => 1.7709 <br>\n",
    "n = 16, intervalo de confiança = 99% => 2.9208 <br>\n",
    "n = 10, intervalo de confiança = 50% => 0.89961 <br>\n",
    "\n"
   ],
   "cell_type": "markdown",
   "metadata": {}
  },
  {
   "source": [
    "# 4ª Questão – Um engenheiro selecionou uma amostra aleatória de 12 medias da tensão de ruptura de certo tipo de fio algodão, a qual representou uma tensão média de ruptura de 748 kg e u desvio padrão de 1,34 kg. Determine um intervalo de 95% de confiança para a verdadeira tensão média de ruptura desse tipo de fio"
   ],
   "cell_type": "markdown",
   "metadata": {}
  },
  {
   "cell_type": "code",
   "execution_count": 68,
   "metadata": {},
   "outputs": [
    {
     "output_type": "stream",
     "name": "stdout",
     "text": [
      "intervalo de confiança 95.0%: 6.722 a 8.238\n"
     ]
    }
   ],
   "source": [
    "int_conf_90 = norm.interval(0.95, loc= 7.48, scale=1.34 / np.sqrt(12)) \n",
    "\n",
    "\n",
    "print(\"intervalo de confiança 95.0%: {:.3f} a {:.3f}\".format(int_conf_90[0], int_conf_90[1]))\n",
    "\n"
   ]
  },
  {
   "cell_type": "code",
   "execution_count": null,
   "metadata": {},
   "outputs": [],
   "source": []
  }
 ]
}
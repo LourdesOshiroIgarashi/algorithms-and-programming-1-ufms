{
 "metadata": {
  "language_info": {
   "codemirror_mode": {
    "name": "ipython",
    "version": 3
   },
   "file_extension": ".py",
   "mimetype": "text/x-python",
   "name": "python",
   "nbconvert_exporter": "python",
   "pygments_lexer": "ipython3",
   "version": "3.8.5"
  },
  "orig_nbformat": 2,
  "kernelspec": {
   "name": "python385jvsc74a57bd080df4573815e2fbc1434c8f9d7234411ca19ec91ea5669cedcae75f03f5659be",
   "display_name": "Python 3.8.5 64-bit ('base': conda)"
  }
 },
 "nbformat": 4,
 "nbformat_minor": 2,
 "cells": [
  {
   "source": [
    "\n",
    "<div style=\"margin-left: 10px\">\n",
    "<h1>Universidade Federal de Mato Grosso do Sul</h1>\n",
    "Campus de Campo Grande <br>\n",
    "Estatística – Prof. Cássio Pinho dos Reis\n",
    "</div>\n",
    "</div>\n",
    "\n",
    "\n",
    "<left><h3>8ª LISTA DE EXERCÍCIOS - parte 3</h3></left> <br>\n",
    "<b>Turma:</b> Engenharia de Software <br>\n",
    "<b>RGA:</b> 2021.1906.069-7<br>\n",
    "<b>Aluno:</b> Maycon Felipe da Silva Mota\n",
    "\n",
    "\n",
    "\n",
    "---\n",
    "\n",
    "\n",
    "\n"
   ],
   "cell_type": "markdown",
   "metadata": {}
  },
  {
   "cell_type": "code",
   "execution_count": 54,
   "metadata": {},
   "outputs": [],
   "source": [
    "import math\n",
    "import statistics as stats\n",
    "from scipy.stats import norm\n"
   ]
  },
  {
   "source": [
    "# 1ª Questão – Uma centena de componentes foi ensaiada e 93 deles funcionaram mais de 500 horas. Determine o intervalo de confiança de 95% para a proporção."
   ],
   "cell_type": "markdown",
   "metadata": {}
  },
  {
   "cell_type": "code",
   "execution_count": 55,
   "metadata": {},
   "outputs": [
    {
     "output_type": "stream",
     "name": "stdout",
     "text": [
      "Pesquisar valor Z: 0.475\nResultado ======> \n P( 0.880 =< u =< 0.980 = 95.00% )\n"
     ]
    }
   ],
   "source": [
    "def calcularSignificancia(valor):\n",
    "    calculo = round(1-valor, 2) \n",
    "    print(f\"Pesquisar valor Z: {(50 -((calculo*100))/2)/100}\")\n",
    "    return calculo \n",
    "\n",
    "def calcularLimInf(proporcao, tamanhoAmostral, valorZ):\n",
    "    calculo = proporcao - valorZ * math.sqrt((proporcao*(1-proporcao))/tamanhoAmostral)\n",
    "    return calculo\n",
    "\n",
    "def calcularLimSup(proporcao, tamanhoAmostral, valorZ):\n",
    "    calculo = proporcao + valorZ * math.sqrt((proporcao*(1-proporcao))/tamanhoAmostral)\n",
    "    return calculo\n",
    "\n",
    "proporcao =  93/100\n",
    "valor_Z = calcularSignificancia(0.95) # 1.96\n",
    "limite_inf = calcularLimInf(proporcao, 100, 1.96)\n",
    "limite_sup = calcularLimSup(proporcao, 100, 1.96)\n",
    "intervalo_confiança = 0.95\n",
    "\n",
    "print(f\"Resultado ======> \\n P( {limite_inf:.3f} =< u =< {limite_sup:.3f} = {intervalo_confiança:.2%} )\")"
   ]
  },
  {
   "source": [
    "# 2ª Questão – Uma amostra aleatória de 400 domicílios mostra-nos que 25% deles são casas de aluguel. Qual é o intervalo de confiança da proporção de casas de aluguel? Use alpha de 2%."
   ],
   "cell_type": "markdown",
   "metadata": {}
  },
  {
   "cell_type": "code",
   "execution_count": 56,
   "metadata": {},
   "outputs": [
    {
     "output_type": "stream",
     "name": "stdout",
     "text": [
      "Resultado ======> \n P( 19.958% =< u =< 30.042% = 95.00% )\n"
     ]
    }
   ],
   "source": [
    "def calcularSignificancia(valor):\n",
    "    calculo = round(1-valor, 2) \n",
    "    print(f\"Pesquisar valor Z: {(50 -((calculo*100))/2)/100}\")\n",
    "    return calculo \n",
    "\n",
    "def calcularLimInf(proporcao, tamanhoAmostral, valorZ):\n",
    "    calculo = proporcao - valorZ * math.sqrt((proporcao*(1-proporcao))/tamanhoAmostral)\n",
    "    return calculo\n",
    "\n",
    "def calcularLimSup(proporcao, tamanhoAmostral, valorZ):\n",
    "    calculo = proporcao + valorZ * math.sqrt((proporcao*(1-proporcao))/tamanhoAmostral)\n",
    "    return calculo\n",
    "\n",
    "proporcao =  25/100\n",
    "# valor_Z = calcularSignificancia(0.2) # Nesse caso, usar o Alpha = 2   // 2.3289\n",
    "limite_inf = calcularLimInf(proporcao, 400, 2.3289)\n",
    "limite_sup = calcularLimSup(proporcao, 400, 2.3289)\n",
    "intervalo_confiança = 0.95\n",
    "\n",
    "print(f\"Resultado ======> \\n P( {limite_inf:.3%} =< u =< {limite_sup:.3%} = {intervalo_confiança:.2%} )\")"
   ]
  },
  {
   "source": [
    "# 3ª Questão – Uma engenheira selecionou uma amostra aleatória de 120 pisos cerâmicos e verificou que 15 deles apresentaram certas imperfeições que inviabilizam o seu uso. Determine uma estimativa intervalar de 95% de confiança para a proporção de todos os pisos que apresentam alguma imperfeição.\n"
   ],
   "cell_type": "markdown",
   "metadata": {}
  },
  {
   "cell_type": "code",
   "execution_count": 57,
   "metadata": {},
   "outputs": [
    {
     "output_type": "stream",
     "name": "stdout",
     "text": [
      "Resultado ======> \n P( 6.583% =< u =< 18.417% = 95.00% )\n"
     ]
    }
   ],
   "source": [
    "def calcularSignificancia(valor):\n",
    "    calculo = round(1-valor, 2) \n",
    "    print(f\"Pesquisar valor Z: {(50 -((calculo*100))/2)/100}\")\n",
    "    return calculo \n",
    "\n",
    "def calcularLimInf(proporcao, tamanhoAmostral, valorZ):\n",
    "    calculo = proporcao - valorZ * math.sqrt((proporcao*(1-proporcao))/tamanhoAmostral)\n",
    "    return calculo\n",
    "\n",
    "def calcularLimSup(proporcao, tamanhoAmostral, valorZ):\n",
    "    calculo = proporcao + valorZ * math.sqrt((proporcao*(1-proporcao))/tamanhoAmostral)\n",
    "    return calculo\n",
    "\n",
    "proporcao =  15/120\n",
    "# valor_Z = calcularSignificancia(0.2) # Nesse caso, usar o Alpha = 2   // 2.3289\n",
    "limite_inf = calcularLimInf(proporcao, 120, 1.96)\n",
    "limite_sup = calcularLimSup(proporcao, 120, 1.96)\n",
    "intervalo_confiança = 0.95\n",
    "\n",
    "print(f\"Resultado ======> \\n P( {limite_inf:.3%} =< u =< {limite_sup:.3%} = {intervalo_confiança:.2%} )\")"
   ]
  },
  {
   "source": [
    "# 4ª Questão – Uma pesquisa feita com uma amostra aleatória de 1850 eleitores para saber se  votariam em determinado candidato, revelou que 1130 deles responderam afirmamente (hipotético). Construa um intervalo de confiança de 90% de confiança para a verdadeira proporção de eleitores que pretendem votar nesse candidato no dia da eleição"
   ],
   "cell_type": "markdown",
   "metadata": {}
  },
  {
   "cell_type": "code",
   "execution_count": 58,
   "metadata": {},
   "outputs": [
    {
     "output_type": "stream",
     "name": "stdout",
     "text": [
      "Resultado ======> \n P( 59.222% =< u =< 62.940% = 95.00% )\n"
     ]
    }
   ],
   "source": [
    "def calcularSignificancia(valor):\n",
    "    calculo = round(1-valor, 2) \n",
    "    print(f\"Pesquisar valor Z: {(50 -((calculo*100))/2)/100}\")\n",
    "    return calculo \n",
    "\n",
    "def calcularLimInf(proporcao, tamanhoAmostral, valorZ):\n",
    "    calculo = proporcao - valorZ * math.sqrt((proporcao*(1-proporcao))/tamanhoAmostral)\n",
    "    return calculo\n",
    "\n",
    "def calcularLimSup(proporcao, tamanhoAmostral, valorZ):\n",
    "    calculo = proporcao + valorZ * math.sqrt((proporcao*(1-proporcao))/tamanhoAmostral)\n",
    "    return calculo\n",
    "\n",
    "proporcao =  1130/1850\n",
    "# valor_Z = calcularSignificancia(0.2) # Nesse caso, usar o Alpha = 2   // 2.3289\n",
    "limite_inf = calcularLimInf(proporcao, 1850, 1.64)\n",
    "limite_sup = calcularLimSup(proporcao, 1850, 1.64)\n",
    "intervalo_confiança = 0.95\n",
    "\n",
    "print(f\"Resultado ======> \\n P( {limite_inf:.3%} =< u =< {limite_sup:.3%} = {intervalo_confiança:.2%} )\")"
   ]
  },
  {
   "cell_type": "code",
   "execution_count": null,
   "metadata": {},
   "outputs": [],
   "source": []
  }
 ]
}
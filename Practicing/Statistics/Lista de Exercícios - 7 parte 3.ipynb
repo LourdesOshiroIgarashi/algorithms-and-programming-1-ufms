{
 "metadata": {
  "language_info": {
   "codemirror_mode": {
    "name": "ipython",
    "version": 3
   },
   "file_extension": ".py",
   "mimetype": "text/x-python",
   "name": "python",
   "nbconvert_exporter": "python",
   "pygments_lexer": "ipython3",
   "version": "3.8.5"
  },
  "orig_nbformat": 2,
  "kernelspec": {
   "name": "python385jvsc74a57bd080df4573815e2fbc1434c8f9d7234411ca19ec91ea5669cedcae75f03f5659be",
   "display_name": "Python 3.8.5 64-bit ('base': conda)"
  }
 },
 "nbformat": 4,
 "nbformat_minor": 2,
 "cells": [
  {
   "source": [
    "\n",
    "<div style=\"margin-left: 10px\">\n",
    "<h1>Universidade Federal de Mato Grosso do Sul</h1>\n",
    "Campus de Campo Grande <br>\n",
    "Estatística – Prof. Cássio Pinho dos Reis\n",
    "</div>\n",
    "</div>\n",
    "\n",
    "\n",
    "<left><h3>7ª LISTA DE EXERCÍCIOS - parte 3</h3></left> <br>\n",
    "<b>Turma:</b> Engenharia de Software <br>\n",
    "<b>RGA:</b> 2021.1906.069-7<br>\n",
    "<b>Aluno:</b> Maycon Felipe da Silva Mota\n",
    "\n",
    "\n",
    "\n",
    "---\n",
    "\n",
    "\n",
    "\n"
   ],
   "cell_type": "markdown",
   "metadata": {}
  },
  {
   "cell_type": "code",
   "execution_count": 21,
   "metadata": {},
   "outputs": [],
   "source": [
    "import itertools as it\n",
    "import pandas as pd\n",
    "import numpy as np\n",
    "import math\n",
    "from scipy.stats import poisson\n",
    "from scipy.stats import norm"
   ]
  },
  {
   "source": [
    "#### Para esse exercício, irei criar uma função para calcular a distribuição normal."
   ],
   "cell_type": "markdown",
   "metadata": {}
  },
  {
   "source": [
    "## 1ª Questão – A duração de certo componente eletrônico tem média de 850 dias e desvio padrão de 45 dias. Calcule a probabilidade deste componente durar:"
   ],
   "cell_type": "markdown",
   "metadata": {}
  },
  {
   "source": [
    "### a) Entre 700 e 1000 dias."
   ],
   "cell_type": "markdown",
   "metadata": {}
  },
  {
   "cell_type": "code",
   "execution_count": 10,
   "metadata": {},
   "outputs": [
    {
     "output_type": "stream",
     "name": "stdout",
     "text": [
      "P(-3.3333333333333335 < Z < 3.3333333333333335) \nA probabilidade é de 1.0\n"
     ]
    }
   ],
   "source": [
    "# aqui iremos transformar em uma Distribuição normal padrão\n",
    "\n",
    "# calculo para z1\n",
    "\n",
    "def desvNormPadrao(lim1, lim2, desv):\n",
    "    z = (lim1-lim2)/desv\n",
    "    return z\n",
    "\n",
    "# Calcular entre limites\n",
    "z1 = desvNormPadrao(700, 850, 45)\n",
    "z2 = desvNormPadrao(1000, 850, 45)\n",
    "\n",
    "print(\"P({} < Z < {}) \".format(z1, z2))\n",
    "print(\"A probabilidade é de {}\".format(1 - (z1 + z2)))"
   ]
  },
  {
   "source": [
    "### b) Agora, calcularemos P(X > 800):\n"
   ],
   "cell_type": "markdown",
   "metadata": {}
  },
  {
   "cell_type": "code",
   "execution_count": 38,
   "metadata": {},
   "outputs": [
    {
     "output_type": "stream",
     "name": "stdout",
     "text": [
      "P(Z > -1.1111111111111112)\n0.8665\n0.8667397370974946\n"
     ]
    }
   ],
   "source": [
    "z1 = desvNormPadrao(800, 850, 45)\n",
    "print(\"P(Z > {})\".format(z1))\n",
    "\n",
    "# P(Z > -1.1111111111111112) = P(-1,11 < Z < 0) + P(Z > 0)\n",
    "# P(Z > -1.1111111111111112) = P(-1,11 < Z < 0) + P(Z > 0)\n",
    "                            #  0,3665 + 0,5\n",
    "print(0.3665+0.5)\n",
    "# ou se usarmos a função de distribuição cumulativa do SciPy\n",
    "print(norm.sf(z1))\n",
    "\n"
   ]
  },
  {
   "source": [
    "## 2ª Questão – Uma fábrica de pneus fez um teste para medir o desgaste de seus pneus e verificou que em média duravam 48.000 km, com um desvio padrão de 2.000. Calcule a probabilidade de um pneu escolhido ao acaso ter:"
   ],
   "cell_type": "markdown",
   "metadata": {}
  },
  {
   "source": [
    "### a) Vida útil de mais de 46.000 km.\n"
   ],
   "cell_type": "markdown",
   "metadata": {}
  },
  {
   "cell_type": "code",
   "execution_count": 41,
   "metadata": {},
   "outputs": [
    {
     "output_type": "stream",
     "name": "stdout",
     "text": [
      "0.8413447460685429\n"
     ]
    }
   ],
   "source": [
    "z1 = desvNormPadrao(46000, 48000, 2000)\n",
    "prob = norm.sf(z1)\n",
    "print(prob)"
   ]
  },
  {
   "source": [
    "### b) Dure entre 45.000 km e 50.000 km"
   ],
   "cell_type": "markdown",
   "metadata": {}
  },
  {
   "cell_type": "code",
   "execution_count": 114,
   "metadata": {},
   "outputs": [
    {
     "output_type": "stream",
     "name": "stdout",
     "text": [
      "0.7745\n0.7745375447996848\n"
     ]
    }
   ],
   "source": [
    "z1 = desvNormPadrao(45000, 48000, 2000)\n",
    "z2 = desvNormPadrao(50000, 48000, 2000)\n",
    "# z1 = 0.4332\n",
    "# z2 = 0.3413\n",
    "prob = 0.4332+0.3413\n",
    "print(prob)\n",
    "# Ou ....\n",
    "# Remove a cauda direita e esquerda da distribuição \n",
    "print(( 1 - norm.cdf(-1.5) ) - (1 - norm.cdf(1) ))\n"
   ]
  },
  {
   "source": [
    "## 3ª Questão – Suponha que a absorção de água (%) em certo tipo de piso cerâmico tenha distribuição normal com média de 2,5 e desvio padrão 0,7%. Selecionando aleatoriamente, uma unidade desse piso, qual a probabilidade de ele acusar absorção de água entre:\n"
   ],
   "cell_type": "markdown",
   "metadata": {}
  },
  {
   "source": [
    "### a) 2 e 3,5%."
   ],
   "cell_type": "markdown",
   "metadata": {}
  },
  {
   "cell_type": "code",
   "execution_count": 147,
   "metadata": {},
   "outputs": [
    {
     "output_type": "stream",
     "name": "stdout",
     "text": [
      "0.6833\n"
     ]
    },
    {
     "output_type": "execute_result",
     "data": {
      "text/plain": [
       "0.6859110124631888"
      ]
     },
     "metadata": {},
     "execution_count": 147
    }
   ],
   "source": [
    "z1 = desvNormPadrao(2, 2.5, 0.7)\n",
    "z2 = desvNormPadrao(2.5, 3.5, 0.7)\n",
    "\n",
    "# z1 = 0.2611\n",
    "# z2 = 0.4222\n",
    "prob = 0.2611 + 0.4222 \n",
    "print(prob)\n",
    "1 - ( norm.cdf(z1) + norm.cdf(z2) )"
   ]
  },
  {
   "source": [
    "### b) 1 e 2,2%."
   ],
   "cell_type": "markdown",
   "metadata": {}
  },
  {
   "cell_type": "code",
   "execution_count": 183,
   "metadata": {},
   "outputs": [
    {
     "output_type": "stream",
     "name": "stdout",
     "text": [
      "0.3174\n"
     ]
    },
    {
     "output_type": "execute_result",
     "data": {
      "text/plain": [
       "0.3180552852937964"
      ]
     },
     "metadata": {},
     "execution_count": 183
    }
   ],
   "source": [
    "z1 = desvNormPadrao(1, 2.5, 0.7)\n",
    "z2 = desvNormPadrao(2.2, 2.5, 0.7)\n",
    "\n",
    "# z1 = 0.4838\n",
    "# z2 = 0.1664\n",
    "z1 - z2\n",
    "\n",
    "print(0.4838-0.1664)\n",
    "\n",
    "norm.cdf(z2) - norm.cdf(z1)"
   ]
  },
  {
   "source": [
    "### c) 3 e 4,5%"
   ],
   "cell_type": "markdown",
   "metadata": {}
  },
  {
   "cell_type": "code",
   "execution_count": 189,
   "metadata": {},
   "outputs": [
    {
     "output_type": "stream",
     "name": "stdout",
     "text": [
      "0.23670000000000002\n"
     ]
    },
    {
     "output_type": "execute_result",
     "data": {
      "text/plain": [
       "0.2353878950468902"
      ]
     },
     "metadata": {},
     "execution_count": 189
    }
   ],
   "source": [
    "z1 = desvNormPadrao(2.5, 3, 0.7)\n",
    "z2 = desvNormPadrao(2.5, 4.5, 0.7)\n",
    "\n",
    "# z1 = 0.2611\n",
    "# z2 = 0.4978\n",
    "prob = 0.4978 - 0.2611 \n",
    "\n",
    "print(prob)\n",
    "norm.cdf(z1) - norm.cdf(z2)"
   ]
  },
  {
   "cell_type": "code",
   "execution_count": null,
   "metadata": {},
   "outputs": [],
   "source": []
  }
 ]
}
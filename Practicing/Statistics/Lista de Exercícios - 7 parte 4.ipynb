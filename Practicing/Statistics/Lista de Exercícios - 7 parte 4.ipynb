{
 "metadata": {
  "language_info": {
   "codemirror_mode": {
    "name": "ipython",
    "version": 3
   },
   "file_extension": ".py",
   "mimetype": "text/x-python",
   "name": "python",
   "nbconvert_exporter": "python",
   "pygments_lexer": "ipython3",
   "version": "3.8.5"
  },
  "orig_nbformat": 2,
  "kernelspec": {
   "name": "python385jvsc74a57bd080df4573815e2fbc1434c8f9d7234411ca19ec91ea5669cedcae75f03f5659be",
   "display_name": "Python 3.8.5 64-bit ('base': conda)"
  }
 },
 "nbformat": 4,
 "nbformat_minor": 2,
 "cells": [
  {
   "source": [
    "\n",
    "<div style=\"margin-left: 10px\">\n",
    "<h1>Universidade Federal de Mato Grosso do Sul</h1>\n",
    "Campus de Campo Grande <br>\n",
    "Estatística – Prof. Cássio Pinho dos Reis\n",
    "</div>\n",
    "</div>\n",
    "\n",
    "\n",
    "<left><h3>7ª LISTA DE EXERCÍCIOS - parte 3</h3></left> <br>\n",
    "<b>Turma:</b> Engenharia de Software <br>\n",
    "<b>RGA:</b> 2021.1906.069-7<br>\n",
    "<b>Aluno:</b> Maycon Felipe da Silva Mota\n",
    "\n",
    "\n",
    "\n",
    "---\n",
    "\n",
    "\n",
    "\n"
   ],
   "cell_type": "markdown",
   "metadata": {}
  },
  {
   "cell_type": "code",
   "execution_count": 23,
   "metadata": {},
   "outputs": [],
   "source": [
    "import itertools as it\n",
    "import pandas as pd\n",
    "import numpy as np\n",
    "import math\n",
    "from scipy.stats import poisson\n",
    "from scipy.stats import norm\n",
    "from scipy.stats import binom    \n"
   ]
  },
  {
   "source": [
    "#### Para esse exercício, irei criar uma função para calcular a distribuição normal."
   ],
   "cell_type": "markdown",
   "metadata": {}
  },
  {
   "source": [
    "## 1 - Questao Supõe-se que uma moeda seja viciada de tal forma que a probabilidade em um lançamento der resultado “cara” seja 4 vezes maior que a probabilidade de sair “coroa”. Essa moeda é jogada 8 vezes. Calcule a probabilidade de ocorrer:"
   ],
   "cell_type": "markdown",
   "metadata": {}
  },
  {
   "source": [
    "### a) De ocorrer 7 caras.\n"
   ],
   "cell_type": "markdown",
   "metadata": {}
  },
  {
   "cell_type": "code",
   "execution_count": 24,
   "metadata": {},
   "outputs": [
    {
     "output_type": "stream",
     "name": "stdout",
     "text": [
      "12.500000%\n"
     ]
    }
   ],
   "source": [
    "calculo = binom.pmf(7, 8, 0.5)\n",
    "calculo = calculo*4\n",
    "print(\"{:3%}\".format(calculo))"
   ]
  },
  {
   "source": [
    "### b) De dar pelo menos 1 caras."
   ],
   "cell_type": "markdown",
   "metadata": {}
  },
  {
   "cell_type": "code",
   "execution_count": 25,
   "metadata": {},
   "outputs": [
    {
     "output_type": "stream",
     "name": "stdout",
     "text": [
      "12.500000%\n"
     ]
    }
   ],
   "source": [
    "calculo = binom.pmf(1, 8, 0.5)\n",
    "calculo = calculo*4\n",
    "print(\"{:3%}\".format(calculo))"
   ]
  },
  {
   "source": [
    "### c) De não dar nenhuma coroa."
   ],
   "cell_type": "markdown",
   "metadata": {}
  },
  {
   "cell_type": "code",
   "execution_count": 26,
   "metadata": {},
   "outputs": [
    {
     "output_type": "stream",
     "name": "stdout",
     "text": [
      "1.562500%\n"
     ]
    }
   ],
   "source": [
    "calculo = binom.pmf(0, 8, 0.5)\n",
    "calculo = calculo*4\n",
    "print(\"{:3%}\".format(calculo))"
   ]
  },
  {
   "source": [
    "## 2ª Questão – Um aluno de estatística foi fazer uma prova, porém ele não estudou sobre o assunto. Ao receber a prova, ele verificou que todas as questões são de múltipla escolha com 5 alternativas possíveis. Essa prova tinha 6 questões. E para não deixar a prova em branco, este aluno (que não estudou para a prova), marcou as opções de forma totalmente aleatória. Sabendo disso, qual a probabilidade do aluno ter:\n"
   ],
   "cell_type": "markdown",
   "metadata": {}
  },
  {
   "source": [
    "### a) Acertado todas as questões."
   ],
   "cell_type": "markdown",
   "metadata": {}
  },
  {
   "cell_type": "code",
   "execution_count": 27,
   "metadata": {},
   "outputs": [
    {
     "output_type": "stream",
     "name": "stdout",
     "text": [
      "0.006400%\n"
     ]
    }
   ],
   "source": [
    "calculo = binom.pmf(6, 6, 0.2)\n",
    "print(\"{:3%}\".format(calculo))"
   ]
  },
  {
   "source": [
    "### b) Errado todas as questões"
   ],
   "cell_type": "markdown",
   "metadata": {}
  },
  {
   "cell_type": "code",
   "execution_count": 28,
   "metadata": {},
   "outputs": [
    {
     "output_type": "stream",
     "name": "stdout",
     "text": [
      "26.214400%\n"
     ]
    }
   ],
   "source": [
    "calculo = binom.pmf(0, 6, 0.2)\n",
    "print(\"{:3%}\".format(calculo))"
   ]
  },
  {
   "source": [
    "### c) Acertado mais da metade das questões"
   ],
   "cell_type": "markdown",
   "metadata": {}
  },
  {
   "cell_type": "code",
   "execution_count": 29,
   "metadata": {},
   "outputs": [
    {
     "output_type": "stream",
     "name": "stdout",
     "text": [
      "1.536000%\n"
     ]
    }
   ],
   "source": [
    "calculo = binom.pmf(4, 6, 0.2)\n",
    "print(\"{:3%}\".format(calculo))"
   ]
  },
  {
   "source": [
    "### d) Acertado pelo menos 1 questão."
   ],
   "cell_type": "markdown",
   "metadata": {}
  },
  {
   "cell_type": "code",
   "execution_count": 30,
   "metadata": {},
   "outputs": [
    {
     "output_type": "stream",
     "name": "stdout",
     "text": [
      "39.321600%\n"
     ]
    }
   ],
   "source": [
    "calculo = binom.pmf(1, 6, 0.2)\n",
    "print(\"{:3%}\".format(calculo))"
   ]
  },
  {
   "source": [
    "## 3ª Questão – Supondo que as consultas num banco de dados ocorrem com uma taxa média de 3 consultas por minuto. Qual a probabilidade de nos próximos 2 minutos, ocorram:"
   ],
   "cell_type": "markdown",
   "metadata": {}
  },
  {
   "source": [
    "### a) Menos que 3 consultas."
   ],
   "cell_type": "markdown",
   "metadata": {}
  },
  {
   "cell_type": "code",
   "execution_count": 31,
   "metadata": {},
   "outputs": [],
   "source": [
    "# Função para cálculo da probabilidade\n",
    "\n",
    "def prob(x, t, y):\n",
    "    e = np.exp(1)\n",
    "    valor_1 = (e**(-y))*(y**x)\n",
    "    valor_2 = valor_1/math.factorial(x)\n",
    "    return valor_2\n"
   ]
  },
  {
   "cell_type": "code",
   "execution_count": 32,
   "metadata": {},
   "outputs": [
    {
     "output_type": "execute_result",
     "data": {
      "text/plain": [
       "0.4231900811268436"
      ]
     },
     "metadata": {},
     "execution_count": 32
    }
   ],
   "source": [
    "calculo = prob(0, 0, 3) + prob(1, 1, 3) + prob(2, 2, 3)\n",
    "calculo\n"
   ]
  },
  {
   "source": [
    "### b) Mais que 5 consultas."
   ],
   "cell_type": "markdown",
   "metadata": {}
  },
  {
   "cell_type": "code",
   "execution_count": 33,
   "metadata": {},
   "outputs": [
    {
     "output_type": "execute_result",
     "data": {
      "text/plain": [
       "0.5567991108120549"
      ]
     },
     "metadata": {},
     "execution_count": 33
    }
   ],
   "source": [
    "calculo = 1 - (prob(1, 1, 6) + prob(2, 2, 6) + prob(3, 3, 6) + prob(4, 4, 6) + prob(5, 5, 6))\n",
    "calculo\n"
   ]
  },
  {
   "source": [
    "## 4ª Questão – O número de falhas em certo tipo de placa plástica segue a distribuição Poisson, com uma taxa média de 0,05 defeito por metro quadrado. Na construção de um barco, é necessário cobrir uma superfície de 3 m x 2 m com essa placa. Calcule a probabilidade de:"
   ],
   "cell_type": "markdown",
   "metadata": {}
  },
  {
   "source": [
    "### a) Não haja falha nessa superfície."
   ],
   "cell_type": "markdown",
   "metadata": {}
  },
  {
   "cell_type": "code",
   "execution_count": 34,
   "metadata": {},
   "outputs": [
    {
     "output_type": "execute_result",
     "data": {
      "text/plain": [
       "0.951229424500714"
      ]
     },
     "metadata": {},
     "execution_count": 34
    }
   ],
   "source": [
    "calculo = prob(0, 6, 0.05)\n",
    "calculo"
   ]
  },
  {
   "source": [
    "### b) Mais que 1 falha nessa superfície."
   ],
   "cell_type": "markdown",
   "metadata": {}
  },
  {
   "cell_type": "code",
   "execution_count": 35,
   "metadata": {},
   "outputs": [
    {
     "output_type": "execute_result",
     "data": {
      "text/plain": [
       "0.047561471225035706"
      ]
     },
     "metadata": {},
     "execution_count": 35
    }
   ],
   "source": [
    "calculo = prob(1, 6, 0.05)\n",
    "calculo"
   ]
  },
  {
   "source": [
    "## 5ª Questão – A idade de alunos da turma de estatística em uma sala de aula segue a distribuição normal de probabilidade. Sabendo que a média de idade dessa turma é de 20 anos e com um desvio padrão de 4 anos, calcule a probabilidade de um aluno ter:"
   ],
   "cell_type": "markdown",
   "metadata": {}
  },
  {
   "source": [
    "### a) Entre 18 e 23 anos."
   ],
   "cell_type": "markdown",
   "metadata": {}
  },
  {
   "cell_type": "code",
   "execution_count": 36,
   "metadata": {},
   "outputs": [
    {
     "output_type": "execute_result",
     "data": {
      "text/plain": [
       "0.4649"
      ]
     },
     "metadata": {},
     "execution_count": 36
    }
   ],
   "source": [
    "def desvNormPadrao(lim1, lim2, desv):\n",
    "    z = (lim1-lim2)/desv\n",
    "    return z\n",
    "\n",
    "# Calcular entre limites\n",
    "z1 = desvNormPadrao(18, 20, 4) #0,1915\n",
    "z2 = desvNormPadrao(23, 20, 4) #0,2734\n",
    "\n",
    "z3 = 0.1915 + 0.2734\n",
    "z3"
   ]
  },
  {
   "source": [
    "### b) Mais que 19 anos"
   ],
   "cell_type": "markdown",
   "metadata": {}
  },
  {
   "cell_type": "code",
   "execution_count": 37,
   "metadata": {},
   "outputs": [
    {
     "output_type": "stream",
     "name": "stdout",
     "text": [
      "0.5987\n"
     ]
    }
   ],
   "source": [
    "def desvNormPadrao(lim1, lim2, desv):\n",
    "    z = (lim1-lim2)/desv\n",
    "    return z\n",
    "\n",
    "# Calcular entre limites\n",
    "z2 = desvNormPadrao(19, 20, 4) #0,0987\n",
    "z3 = 0.0987 + 0.5\n",
    "print(z3)"
   ]
  },
  {
   "source": [
    "### c) Menos de 17 anos"
   ],
   "cell_type": "markdown",
   "metadata": {}
  },
  {
   "cell_type": "code",
   "execution_count": 38,
   "metadata": {},
   "outputs": [
    {
     "output_type": "stream",
     "name": "stdout",
     "text": [
      "0.22660000000000002\n"
     ]
    }
   ],
   "source": [
    "def desvNormPadrao(lim1, lim2, desv):\n",
    "    z = (lim1-lim2)/desv\n",
    "    return z\n",
    "\n",
    "# Calcular entre limites\n",
    "z1 = desvNormPadrao(17, 20, 4) #0,2734\n",
    "\n",
    "z3 = 1 - (0.2734 + 0.5)\n",
    "print(z3)\n"
   ]
  },
  {
   "source": [
    "### d) Entre 21 e 25 anos"
   ],
   "cell_type": "markdown",
   "metadata": {}
  },
  {
   "cell_type": "code",
   "execution_count": 39,
   "metadata": {},
   "outputs": [
    {
     "output_type": "stream",
     "name": "stdout",
     "text": [
      "0.29569999999999996\n"
     ]
    }
   ],
   "source": [
    "def desvNormPadrao(lim1, lim2, desv):\n",
    "    z = (lim1-lim2)/desv\n",
    "    return z\n",
    "\n",
    "# Calcular entre limites\n",
    "z1 = desvNormPadrao(21, 20, 4) #0,0987\n",
    "z2 = desvNormPadrao(25, 20, 4) #0,3944\n",
    "\n",
    "z3 =  (0.3944 - 0.0987)\n",
    "print(z3)\n"
   ]
  },
  {
   "source": [
    "### e) Entre 17 e 19 anos"
   ],
   "cell_type": "markdown",
   "metadata": {}
  },
  {
   "cell_type": "code",
   "execution_count": 40,
   "metadata": {},
   "outputs": [
    {
     "output_type": "stream",
     "name": "stdout",
     "text": [
      "0.17469999999999997\n"
     ]
    }
   ],
   "source": [
    "def desvNormPadrao(lim1, lim2, desv):\n",
    "    z = (lim1-lim2)/desv\n",
    "    return z\n",
    "\n",
    "# Calcular entre limites\n",
    "z1 = desvNormPadrao(17, 20, 4) #0,2734\n",
    "z2 = desvNormPadrao(19, 20, 4) #0,0987\n",
    "\n",
    "print(0.2734-0.0987)\n"
   ]
  },
  {
   "source": [
    "## 6ª Questão – Suponha que o tempo de resposta na execução de um algoritmo segue uma distribuição normal de probabilidade com tempo médio de 23 segundos e desvio padrão de 4 segundos. Calcule a probabilidade ter um tempo de resposta de:"
   ],
   "cell_type": "markdown",
   "metadata": {}
  },
  {
   "source": [
    "### a) Menor que 25 segundos"
   ],
   "cell_type": "markdown",
   "metadata": {}
  },
  {
   "cell_type": "code",
   "execution_count": 41,
   "metadata": {},
   "outputs": [
    {
     "output_type": "stream",
     "name": "stdout",
     "text": [
      "0.6915\n"
     ]
    }
   ],
   "source": [
    "def desvNormPadrao(lim1, lim2, desv):\n",
    "    z = (lim1-lim2)/desv\n",
    "    return z\n",
    "\n",
    "# Calcular entre limites\n",
    "z1 = desvNormPadrao(25, 23, 4) #0.1915\n",
    "z3 = (0.1915 + 0.5)\n",
    "print(z3)\n"
   ]
  },
  {
   "source": [
    "### b) Entre 20 e 30 segundos"
   ],
   "cell_type": "markdown",
   "metadata": {}
  },
  {
   "cell_type": "code",
   "execution_count": 42,
   "metadata": {},
   "outputs": [
    {
     "output_type": "stream",
     "name": "stdout",
     "text": [
      "0.7333\n"
     ]
    }
   ],
   "source": [
    "def desvNormPadrao(lim1, lim2, desv):\n",
    "    z = (lim1-lim2)/desv\n",
    "    return z\n",
    "\n",
    "# Calcular entre limites\n",
    "z1 = desvNormPadrao(20, 23, 4) #0.2734\n",
    "z2 = desvNormPadrao(30, 23, 4) #0.4599\n",
    "z3 = (0.2734 + 0.4599)\n",
    "print(z3)\n"
   ]
  },
  {
   "cell_type": "code",
   "execution_count": 43,
   "metadata": {},
   "outputs": [],
   "source": [
    "### c) Maior que 24 segundos"
   ]
  },
  {
   "source": [
    "def desvNormPadrao(lim1, lim2, desv):\n",
    "    z = (lim1-lim2)/desv\n",
    "    return z\n",
    "\n",
    "# Calcular entre limites\n",
    "z1 = desvNormPadrao(24, 23, 4) #0.0987\n",
    "z3 = (0.5 - 0.0987)\n",
    "print(z3)\n"
   ],
   "cell_type": "code",
   "metadata": {},
   "execution_count": 44,
   "outputs": [
    {
     "output_type": "stream",
     "name": "stdout",
     "text": [
      "0.4013\n"
     ]
    }
   ]
  },
  {
   "cell_type": "code",
   "execution_count": null,
   "metadata": {},
   "outputs": [],
   "source": []
  }
 ]
}